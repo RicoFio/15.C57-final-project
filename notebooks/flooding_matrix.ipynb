{
 "cells": [
  {
   "cell_type": "code",
   "metadata": {
    "ExecuteTime": {
     "end_time": "2024-12-02T20:18:59.513350Z",
     "start_time": "2024-12-02T20:18:59.509940Z"
    }
   },
   "source": [
    "import matplotlib\n",
    "from matplotlib import pyplot as plt\n",
    "import igraph as ig\n",
    "import geopandas as gpd\n",
    "from tqdm import tqdm\n",
    "import matplotlib.cm as cm\n",
    "from mpl_toolkits.axes_grid1 import make_axes_locatable\n",
    "import matplotlib.colors as mcolors\n",
    "import numpy as np\n",
    "import pandas as pd\n",
    "import os\n",
    "from pathlib import Path"
   ],
   "outputs": [],
   "execution_count": 12
  },
  {
   "cell_type": "code",
   "metadata": {
    "ExecuteTime": {
     "end_time": "2024-12-02T20:20:28.345397Z",
     "start_time": "2024-12-02T20:20:28.341839Z"
    }
   },
   "source": [
    "DATA_FOLDER_PATH = Path('../data/Boston')\n",
    "SCENARIO_FOLDER_PATH = DATA_FOLDER_PATH / 'scenarios'\n",
    "\n",
    "problem_graph_file = DATA_FOLDER_PATH / 'resulting_graph/Boston_problem_graph_2024-11-21_reduced.gml'\n",
    "complete_census_file = DATA_FOLDER_PATH / 'complete_census_2022.parquet'\n",
    "crs = \"EPSG:4326\""
   ],
   "outputs": [],
   "execution_count": 20
  },
  {
   "cell_type": "code",
   "metadata": {
    "ExecuteTime": {
     "end_time": "2024-12-02T21:22:18.566154Z",
     "start_time": "2024-12-02T21:22:10.273665Z"
    }
   },
   "source": [
    "g : ig.Graph = ig.read(problem_graph_file)\n",
    "complete_census = gpd.read_parquet(complete_census_file)\n",
    "complete_census = complete_census.to_crs(crs)"
   ],
   "outputs": [],
   "execution_count": 45
  },
  {
   "cell_type": "code",
   "metadata": {
    "ExecuteTime": {
     "end_time": "2024-12-02T20:19:39.491620Z",
     "start_time": "2024-12-02T20:19:38.785302Z"
    }
   },
   "source": [
    "pt_nodes = g.vs.select(type='pt_node')\n",
    "subgraph = g.subgraph(pt_nodes)\n",
    "adj_matrix = subgraph.get_adjacency()"
   ],
   "outputs": [],
   "execution_count": 15
  },
  {
   "cell_type": "code",
   "metadata": {
    "ExecuteTime": {
     "end_time": "2024-12-02T20:19:42.202564Z",
     "start_time": "2024-12-02T20:19:41.937868Z"
    }
   },
   "source": [
    "# Filter vertices by type\n",
    "pt_nodes = g.vs.select(type='pt_node')\n",
    "\n",
    "# Filter 'METRO' edges and create a subgraph\n",
    "metro_edges = g.es.select(type='METRO')\n",
    "metro_subgraph = g.subgraph_edges(metro_edges, delete_vertices=True)\n",
    "undirected_metro_graph = metro_subgraph.as_undirected(combine_edges='first')\n",
    "\n",
    "# Normalize the 'tt' values for colormap mapping\n",
    "tt_values = [edge['tt'] for edge in undirected_metro_graph.es]\n",
    "norm = mcolors.Normalize(vmin=min(tt_values), vmax=max(tt_values))\n",
    "cmap = plt.get_cmap('viridis')  # Use the viridis colormap"
   ],
   "outputs": [],
   "execution_count": 16
  },
  {
   "cell_type": "code",
   "metadata": {
    "ExecuteTime": {
     "end_time": "2024-12-02T20:19:44.940968Z",
     "start_time": "2024-12-02T20:19:44.937787Z"
    }
   },
   "source": [
    "# get the link from undirected_metro_graph\n",
    "# get the link from undirected_metro_graph\n",
    "edges = undirected_metro_graph.es\n",
    "edges[1]"
   ],
   "outputs": [
    {
     "data": {
      "text/plain": [
       "igraph.Edge(<igraph.Graph object at 0x7077959d8240>, 1, {'weight': 2.0, 'name': 'Red_mbta_1', 'type': 'METRO', 'uniqueagencyid': 'mbta', 'tt': 2.0, 'uniquerouteid': 'Red_mbta', 'routetype': 1.0, 'color': 'BLACK', 'active': 1.0})"
      ]
     },
     "execution_count": 17,
     "metadata": {},
     "output_type": "execute_result"
    }
   ],
   "execution_count": 17
  },
  {
   "cell_type": "code",
   "metadata": {
    "ExecuteTime": {
     "end_time": "2024-12-02T20:20:30.642918Z",
     "start_time": "2024-12-02T20:20:30.620910Z"
    }
   },
   "source": [
    "adj_matrix = undirected_metro_graph.get_adjacency().data\n",
    "\n",
    "# Extract the names of the vertices\n",
    "vertex_names = [v['name'] for v in undirected_metro_graph.vs]\n",
    "\n",
    "# Create a pandas DataFrame with vertex names as row and column labels\n",
    "adj_matrix_df = pd.DataFrame(adj_matrix, index=vertex_names, columns=vertex_names)\n",
    "\n",
    "# Display the adjacency matrix with labels\n",
    "# print(adj_matrix_df)\n",
    "adj_matrix_df.to_csv(SCENARIO_FOLDER_PATH / 'scenario_100.csv')"
   ],
   "outputs": [],
   "execution_count": 21
  },
  {
   "cell_type": "code",
   "metadata": {
    "ExecuteTime": {
     "end_time": "2024-12-02T21:25:54.312607Z",
     "start_time": "2024-12-02T21:25:54.293272Z"
    }
   },
   "source": [
    "# Define the directory and file names\n",
    "file_names = [\n",
    "    'scenario_0_1.csv',\n",
    "    'scenario_1.csv',\n",
    "    'scenario_5.csv',\n",
    "    'scenario_10.csv',\n",
    "    'scenario_50.csv',\n",
    "    'scenario_100.csv'\n",
    "]\n",
    "\n",
    "# Read each file into a dataframe and store it in a dictionary\n",
    "dataframes = {}\n",
    "for file_name in file_names:\n",
    "    file_path = SCENARIO_FOLDER_PATH / file_name\n",
    "    dataframes[file_path.stem] = pd.read_csv(file_path, index_col=0)\n",
    "    # dataframes[file_name.stem].to_csv(file_path.parent / (file_path.stem.replace('adj_matrix', 'scenario') + '.csv'), index=True)"
   ],
   "outputs": [],
   "execution_count": 48
  },
  {
   "metadata": {
    "ExecuteTime": {
     "end_time": "2024-12-02T21:27:15.219936Z",
     "start_time": "2024-12-02T21:27:15.206775Z"
    }
   },
   "cell_type": "code",
   "source": [
    "def plot_interdiction_map(interdiction_scenario_adj_matrix_df, g, complete_census, penalty=99, ax=None):\n",
    "    # Filter vertices by type\n",
    "    rc_nodes = g.vs.select(type='rc_node')\n",
    "    pt_nodes = g.vs.select(type='pt_node')\n",
    "    \n",
    "    if not ax:\n",
    "        # First plot: Plot only 'rc_node' vertices\n",
    "        fig, ax = plt.subplots(figsize=(10, 10))\n",
    "    \n",
    "    _ = ig.plot(\n",
    "        g.subgraph(rc_nodes),\n",
    "        target=ax,\n",
    "        vertex_size=2,\n",
    "        vertex_color='black',\n",
    "        vertex_label=None,  # Hide vertex labels\n",
    "        edge_color=None,  # Hide edges\n",
    "        edge_width=0\n",
    "    )\n",
    "    \n",
    "    # Get the extent (bounds) of the base map\n",
    "    xmin, xmax = ax.get_xlim()\n",
    "    ymin, ymax = ax.get_ylim()\n",
    "    \n",
    "    # Second plot: Plot only 'pt_node' vertices with 'METRO' edges\n",
    "    metro_edges = g.es.select(type='METRO')\n",
    "    metro_subgraph = g.subgraph_edges(metro_edges, delete_vertices=True)\n",
    "    undirected_metro_graph = metro_subgraph.as_undirected(combine_edges='first')\n",
    "    \n",
    "    # Adapt the 'tt' values in the interdiction scenario to the 'METRO' edges\n",
    "    for edge in undirected_metro_graph.es:\n",
    "        edge['tt'] = penalty * interdiction_scenario_adj_matrix_df.loc[edge.source['name'], edge.target['name']]\n",
    "    \n",
    "    edge_plot = ig.plot(\n",
    "        undirected_metro_graph,\n",
    "        target=ax,\n",
    "        vertex_size=8,\n",
    "        vertex_color='blue',  # Color for 'pt_node' vertices\n",
    "        vertex_label=None,  # Hide vertex labels\n",
    "        edge_width=4,\n",
    "        arrows=False,\n",
    "        arrow_size=0\n",
    "    )\n",
    "    \n",
    "    # Normalize the 'tt' values for colormap mapping\n",
    "    tt_values = [edge['tt'] for edge in undirected_metro_graph.es]\n",
    "    norm = mcolors.Normalize(vmin=min(tt_values), vmax=max(tt_values))\n",
    "    cmap = plt.get_cmap('viridis')  # Use the viridis colormap\n",
    "    \n",
    "    # Extract the edge collection and apply the color mapping\n",
    "    edge_collection = [e for e in edge_plot.get_children() if isinstance(e, ig.drawing.matplotlib.edge.EdgeCollection)][0]\n",
    "    colors = [cmap(norm(tt)) for tt in tt_values]\n",
    "    edge_collection.set_edgecolor(colors)\n",
    "    edge_collection.set_alpha(1)\n",
    "    \n",
    "    # Add colorbar\n",
    "    divider = make_axes_locatable(ax)\n",
    "    cax = divider.append_axes(\"right\", size=\"4%\", pad=0.1)\n",
    "    \n",
    "    sm = plt.cm.ScalarMappable(cmap=cmap, norm=norm)\n",
    "    sm.set_array([])  # Dummy array for colorbar\n",
    "    cbar = plt.colorbar(sm, cax=cax)\n",
    "    cbar.set_label('Travel Time (tt)', rotation=270, labelpad=20)\n",
    "    \n",
    "    # Plot census boundaries\n",
    "    complete_census.boundary.plot(ax=ax, edgecolor=\"gray\", alpha=0.3)\n",
    "    \n",
    "    # Ensure limits match base map extent\n",
    "    ax.set_xlim(xmin, xmax)\n",
    "    ax.set_ylim(ymin, ymax)\n",
    "    \n",
    "    ax.set_title(\"Boston Metro Network with 45 minute RC and POI Nodes\")\n",
    "    \n",
    "    return ax"
   ],
   "outputs": [],
   "execution_count": 50
  },
  {
   "metadata": {
    "ExecuteTime": {
     "end_time": "2024-12-02T21:27:03.432203Z",
     "start_time": "2024-12-02T21:27:03.264305Z"
    }
   },
   "cell_type": "code",
   "source": [
    "fig, ax = plt.subplots(figsize=(10, 10))\n",
    "interdiction_scenario_adj_matrix_df = dataframes['scenario_100']\n",
    "plot_interdiction_map(interdiction_scenario_adj_matrix_df, g, complete_census, penalty=99, ax=ax)"
   ],
   "outputs": [
    {
     "ename": "TypeError",
     "evalue": "plot_interdiction_map() got an unexpected keyword argument 'ax'",
     "output_type": "error",
     "traceback": [
      "\u001B[0;31m---------------------------------------------------------------------------\u001B[0m",
      "\u001B[0;31mTypeError\u001B[0m                                 Traceback (most recent call last)",
      "Cell \u001B[0;32mIn[49], line 3\u001B[0m\n\u001B[1;32m      1\u001B[0m fig, ax \u001B[38;5;241m=\u001B[39m plt\u001B[38;5;241m.\u001B[39msubplots(figsize\u001B[38;5;241m=\u001B[39m(\u001B[38;5;241m10\u001B[39m, \u001B[38;5;241m10\u001B[39m))\n\u001B[1;32m      2\u001B[0m interdiction_scenario_adj_matrix_df \u001B[38;5;241m=\u001B[39m dataframes[\u001B[38;5;124m'\u001B[39m\u001B[38;5;124mscenario_100\u001B[39m\u001B[38;5;124m'\u001B[39m]\n\u001B[0;32m----> 3\u001B[0m \u001B[43mplot_interdiction_map\u001B[49m\u001B[43m(\u001B[49m\u001B[43minterdiction_scenario_adj_matrix_df\u001B[49m\u001B[43m,\u001B[49m\u001B[43m \u001B[49m\u001B[43mg\u001B[49m\u001B[43m,\u001B[49m\u001B[43m \u001B[49m\u001B[43mcomplete_census\u001B[49m\u001B[43m,\u001B[49m\u001B[43m \u001B[49m\u001B[43mpenalty\u001B[49m\u001B[38;5;241;43m=\u001B[39;49m\u001B[38;5;241;43m99\u001B[39;49m\u001B[43m,\u001B[49m\u001B[43m \u001B[49m\u001B[43max\u001B[49m\u001B[38;5;241;43m=\u001B[39;49m\u001B[43max\u001B[49m\u001B[43m)\u001B[49m\n",
      "\u001B[0;31mTypeError\u001B[0m: plot_interdiction_map() got an unexpected keyword argument 'ax'"
     ]
    },
    {
     "data": {
      "text/plain": [
       "<Figure size 1000x1000 with 1 Axes>"
      ],
      "image/png": "[encoded data removed]"
     },
     "metadata": {},
     "output_type": "display_data"
    }
   ],
   "execution_count": 49
  },
  {
   "metadata": {},
   "cell_type": "code",
   "outputs": [],
   "execution_count": null,
   "source": [
    "# Plot each scenario in a 2 x 3 grid\n",
    "fig, axs = plt.subplots(2, 3, figsize=(15, 10))\n"
   ]
  }
 ],
 "metadata": {
  "kernelspec": {
   "display_name": "ox",
   "language": "python",
   "name": "python3"
  },
  "language_info": {
   "codemirror_mode": {
    "name": "ipython",
    "version": 3
   },
   "file_extension": ".py",
   "mimetype": "text/x-python",
   "name": "python",
   "nbconvert_exporter": "python",
   "pygments_lexer": "ipython3",
   "version": "3.11.6"
  }
 },
 "nbformat": 4,
 "nbformat_minor": 2
}
