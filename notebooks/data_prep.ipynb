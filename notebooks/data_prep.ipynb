{
 "cells": [
  {
   "cell_type": "code",
   "execution_count": 6,
   "id": "444be934-4bf4-4338-a897-5ff74ac454ba",
   "metadata": {},
   "outputs": [],
   "source": [
    "import geopandas as gpd\n",
    "import pandas as pd"
   ]
  },
  {
   "cell_type": "code",
   "execution_count": 7,
   "id": "e07ff2fe-4719-4426-a3bc-93f998d7d8e9",
   "metadata": {},
   "outputs": [],
   "source": [
    "# Download & extract census block group geographies from \n",
    "# https://www.census.gov/geographies/mapping-files/time-series/geo/cartographic-boundary.2021.html#list-tab-1883739534\n",
    "census_gdf = gpd.read_file(\"us_census_data/cb_2021_us_bg_500k.shp\")"
   ]
  },
  {
   "cell_type": "code",
   "execution_count": 17,
   "id": "65c185d9-1b71-4ffe-9b3a-91aff22cca08",
   "metadata": {},
   "outputs": [
    {
     "data": {
      "text/html": [
       "<div>\n",
       "<style scoped>\n",
       "    .dataframe tbody tr th:only-of-type {\n",
       "        vertical-align: middle;\n",
       "    }\n",
       "\n",
       "    .dataframe tbody tr th {\n",
       "        vertical-align: top;\n",
       "    }\n",
       "\n",
       "    .dataframe thead th {\n",
       "        text-align: right;\n",
       "    }\n",
       "</style>\n",
       "<table border=\"1\" class=\"dataframe\">\n",
       "  <thead>\n",
       "    <tr style=\"text-align: right;\">\n",
       "      <th></th>\n",
       "      <th>GEO_ID</th>\n",
       "      <th>NAME</th>\n",
       "      <th>B19013_001E</th>\n",
       "      <th>B19013_001EA</th>\n",
       "      <th>B19013_001M</th>\n",
       "      <th>B19013_001MA</th>\n",
       "      <th>Unnamed: 6</th>\n",
       "    </tr>\n",
       "  </thead>\n",
       "  <tbody>\n",
       "    <tr>\n",
       "      <th>0</th>\n",
       "      <td>Geography</td>\n",
       "      <td>Geographic Area Name</td>\n",
       "      <td>Estimate!!Median household income in the past ...</td>\n",
       "      <td>Annotation of Estimate!!Median household incom...</td>\n",
       "      <td>Margin of Error!!Median household income in th...</td>\n",
       "      <td>Annotation of Margin of Error!!Median househol...</td>\n",
       "      <td>NaN</td>\n",
       "    </tr>\n",
       "    <tr>\n",
       "      <th>1</th>\n",
       "      <td>1500000US010010201001</td>\n",
       "      <td>Block Group 1, Census Tract 201, Autauga Count...</td>\n",
       "      <td>41607</td>\n",
       "      <td>NaN</td>\n",
       "      <td>13603</td>\n",
       "      <td>NaN</td>\n",
       "      <td>NaN</td>\n",
       "    </tr>\n",
       "    <tr>\n",
       "      <th>2</th>\n",
       "      <td>1500000US010010201002</td>\n",
       "      <td>Block Group 2, Census Tract 201, Autauga Count...</td>\n",
       "      <td>66313</td>\n",
       "      <td>NaN</td>\n",
       "      <td>15939</td>\n",
       "      <td>NaN</td>\n",
       "      <td>NaN</td>\n",
       "    </tr>\n",
       "    <tr>\n",
       "      <th>3</th>\n",
       "      <td>1500000US010010202001</td>\n",
       "      <td>Block Group 1, Census Tract 202, Autauga Count...</td>\n",
       "      <td>42288</td>\n",
       "      <td>NaN</td>\n",
       "      <td>22082</td>\n",
       "      <td>NaN</td>\n",
       "      <td>NaN</td>\n",
       "    </tr>\n",
       "    <tr>\n",
       "      <th>4</th>\n",
       "      <td>1500000US010010202002</td>\n",
       "      <td>Block Group 2, Census Tract 202, Autauga Count...</td>\n",
       "      <td>52609</td>\n",
       "      <td>NaN</td>\n",
       "      <td>15898</td>\n",
       "      <td>NaN</td>\n",
       "      <td>NaN</td>\n",
       "    </tr>\n",
       "  </tbody>\n",
       "</table>\n",
       "</div>"
      ],
      "text/plain": [
       "                  GEO_ID                                               NAME  \\\n",
       "0              Geography                               Geographic Area Name   \n",
       "1  1500000US010010201001  Block Group 1, Census Tract 201, Autauga Count...   \n",
       "2  1500000US010010201002  Block Group 2, Census Tract 201, Autauga Count...   \n",
       "3  1500000US010010202001  Block Group 1, Census Tract 202, Autauga Count...   \n",
       "4  1500000US010010202002  Block Group 2, Census Tract 202, Autauga Count...   \n",
       "\n",
       "                                         B19013_001E  \\\n",
       "0  Estimate!!Median household income in the past ...   \n",
       "1                                              41607   \n",
       "2                                              66313   \n",
       "3                                              42288   \n",
       "4                                              52609   \n",
       "\n",
       "                                        B19013_001EA  \\\n",
       "0  Annotation of Estimate!!Median household incom...   \n",
       "1                                                NaN   \n",
       "2                                                NaN   \n",
       "3                                                NaN   \n",
       "4                                                NaN   \n",
       "\n",
       "                                         B19013_001M  \\\n",
       "0  Margin of Error!!Median household income in th...   \n",
       "1                                              13603   \n",
       "2                                              15939   \n",
       "3                                              22082   \n",
       "4                                              15898   \n",
       "\n",
       "                                        B19013_001MA  Unnamed: 6  \n",
       "0  Annotation of Margin of Error!!Median househol...         NaN  \n",
       "1                                                NaN         NaN  \n",
       "2                                                NaN         NaN  \n",
       "3                                                NaN         NaN  \n",
       "4                                                NaN         NaN  "
      ]
     },
     "execution_count": 17,
     "metadata": {},
     "output_type": "execute_result"
    }
   ],
   "source": [
    "# Download census data (median household income) per block group from\n",
    "# https://data.census.gov/table/ACSDT5Y2021.B19013?q=Income+(Households,+Families,+Individuals)&g=010XX00US$1500000\n",
    "census_df_income = pd.read_csv(\"us_census_data/ACSDT5Y2021.B19013-Data.csv\")\n",
    "census_df_income.head(5)"
   ]
  },
  {
   "cell_type": "markdown",
   "id": "9a0c1cca-9d3d-4475-b0b8-7a4d3034701a",
   "metadata": {},
   "source": [
    "# Cities to analyze"
   ]
  },
  {
   "cell_type": "markdown",
   "id": "fc32b977-a988-4a8c-b4e9-1e03d17087d7",
   "metadata": {},
   "source": [
    "- Boston (**MBTA**)\n",
    "    - GTFS Feed: https://www.transit.land/operators/o-drt-mbta\n",
    "- San Francisco (**SFMTA**)\n",
    "    - GTFS Feed: https://www.transit.land/operators/o-9q8y-sfmta\n",
    "- New York (**MTA**)\n",
    "    - GTFS Feed(s): https://www.transit.land/operators/o-dr5r-nyct\n",
    "- Chicago (**CTA**)\n",
    "    - GTFS Feed: https://www.transit.land/operators/o-dp3-chicagotransitauthority\n",
    "- Washington DC (**WMATA**)\n",
    "    - GTFS Feed(s): https://www.transit.land/operators/o-dqc-met\n",
    "- Atlanta (**MARTA**)\n",
    "    - GTFS Feed: https://www.transit.land/operators/o-dnh-metropolitanatlantarapidtransitauthority"
   ]
  },
  {
   "cell_type": "code",
   "execution_count": null,
   "id": "b77117a0-d722-422b-8c5c-4d7084ead868",
   "metadata": {},
   "outputs": [],
   "source": []
  }
 ],
 "metadata": {
  "kernelspec": {
   "display_name": "Python 3 (ipykernel)",
   "language": "python",
   "name": "python3"
  },
  "language_info": {
   "codemirror_mode": {
    "name": "ipython",
    "version": 3
   },
   "file_extension": ".py",
   "mimetype": "text/x-python",
   "name": "python",
   "nbconvert_exporter": "python",
   "pygments_lexer": "ipython3",
   "version": "3.10.12"
  }
 },
 "nbformat": 4,
 "nbformat_minor": 5
}
